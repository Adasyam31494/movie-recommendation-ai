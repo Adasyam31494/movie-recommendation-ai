{
  "nbformat": 4,
  "nbformat_minor": 0,
  "metadata": {
    "colab": {
      "provenance": [],
      "toc_visible": true,
      "authorship_tag": "ABX9TyMfEE3BdoIyPEyMLtcTSHnv"
    },
    "kernelspec": {
      "name": "python3",
      "display_name": "Python 3"
    },
    "language_info": {
      "name": "python"
    }
  },
  "cells": [
    {
      "cell_type": "code",
      "execution_count": 14,
      "metadata": {
        "colab": {
          "base_uri": "https://localhost:8080/"
        },
        "id": "4EW4fgqvezmi",
        "outputId": "52697094-d163-41c3-dfc7-0446b33f8715"
      },
      "outputs": [
        {
          "output_type": "stream",
          "name": "stdout",
          "text": [
            "\n",
            "Top 10 movies similar to 'Inception':\n",
            "\n",
            "1. Cypher\n",
            "2. Mission: Impossible - Rogue Nation\n",
            "3. Stone Cold\n",
            "4. Central Intelligence\n",
            "5. Pitch Perfect 2\n",
            "6. At First Sight\n",
            "7. A History of Violence\n",
            "8. Renaissance\n",
            "9. Blood and Wine\n",
            "10. Duplex\n"
          ]
        }
      ],
      "source": [
        "#Import Libraries\n",
        "import pandas as pd\n",
        "from sklearn.feature_extraction.text import TfidfVectorizer\n",
        "from sklearn.metrics.pairwise import linear_kernel\n",
        "\n",
        "#Load the Dataset\n",
        "data = pd.read_csv(\"/content/tmdb_5000_movies.csv\")\n",
        "data['overview'] = data['overview'].fillna('')\n",
        "\n",
        "#Create TF-IDF Matrix\n",
        "tfidf = TfidfVectorizer(stop_words='english')\n",
        "tfidf_matrix = tfidf.fit_transform(data['overview'])\n",
        "\n",
        "#Compute Cosine Similarity Matrix\n",
        "cosine_sim = linear_kernel(tfidf_matrix, tfidf_matrix)\n",
        "\n",
        "#Create Reverse Mapping of Indices\n",
        "indices = pd.Series(data.index, index=data['title']).drop_duplicates()\n",
        "\n",
        "#Recommendation Function\n",
        "def get_recommendations(title, cosine_sim=cosine_sim):\n",
        "    idx = indices.get(title)\n",
        "    if idx is None:\n",
        "        return [\"Movie not found.\"]\n",
        "    sim_scores = list(enumerate(cosine_sim[idx]))\n",
        "    sim_scores = sorted(sim_scores, key=lambda x: x[1], reverse=True)[1:11]\n",
        "    movie_indices = [i[0] for i in sim_scores]\n",
        "    return data['title'].iloc[movie_indices].tolist()\n",
        "\n",
        "#Call the Function and Show Output\n",
        "movie_title = \"Inception\"  # Change to any title in the dataset\n",
        "recommendations = get_recommendations(movie_title)\n",
        "\n",
        "print(f\"\\nTop 10 movies similar to '{movie_title}':\\n\")\n",
        "for i, rec in enumerate(recommendations, 1):\n",
        "    print(f\"{i}. {rec}\")\n"
      ]
    },
    {
      "cell_type": "code",
      "source": [],
      "metadata": {
        "id": "dazsJPNpe9qG"
      },
      "execution_count": null,
      "outputs": []
    }
  ]
}